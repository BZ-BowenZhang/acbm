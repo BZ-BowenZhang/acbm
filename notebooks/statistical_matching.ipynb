{
 "cells": [
  {
   "cell_type": "markdown",
   "metadata": {},
   "source": [
    "# Adding activity chains to synthetic populations \n",
    "\n",
    "The purpose of this script is to match each individual in the synthetic population to a respondant from the [National Travel Survey (NTS)](https://beta.ukdataservice.ac.uk/datacatalogue/studies/study?id=5340). \n",
    "\n",
    "### Methods\n",
    "\n",
    "We use statistical matching, as described in [An unconstrained statistical matching algorithm for combining individual and household level geo-specific census and survey data](https://doi.org/10.1016/j.compenvurbsys.2016.11.003). "
   ]
  },
  {
   "cell_type": "code",
   "execution_count": 9,
   "metadata": {},
   "outputs": [],
   "source": [
    "import pandas as pd\n"
   ]
  },
  {
   "cell_type": "markdown",
   "metadata": {},
   "source": [
    "## Step 1: Decide on matching variables  \n",
    "\n",
    "We need to identify the sociodemographic charachteristics that we will match on. Let's see what variables exist in (a) the NTS, \n",
    "and (b) our synthetic population. The schema for the synthetic population can be found [here](https://github.com/alan-turing-institute/uatk-spc/blob/main/synthpop.proto). \n"
   ]
  },
  {
   "cell_type": "markdown",
   "metadata": {},
   "source": [
    "## Step 2: Prepare the SPC data for matching "
   ]
  },
  {
   "cell_type": "markdown",
   "metadata": {},
   "source": [
    "## Step 3: Prepare the NTS data for matching"
   ]
  },
  {
   "cell_type": "code",
   "execution_count": 64,
   "metadata": {},
   "outputs": [],
   "source": [
    "# path where datasets are stored\n",
    "path_psu = \"../data/nts/UKDA-5340-tab/tab/psu_eul_2002-2022.tab\"\n",
    "psu = pd.read_csv(path_psu, sep=\"\\t\")\n",
    "\n",
    "path_individuals = \"../data/nts/UKDA-5340-tab/tab/individual_eul_2002-2022.tab\"\n",
    "individuals = pd.read_csv(path_individuals, sep=\"\\t\")\n",
    "\n",
    "path_households = \"../data/nts/UKDA-5340-tab/tab/household_eul_2002-2022.tab\"\n",
    "households = pd.read_csv(path_households, sep=\"\\t\")\n",
    "\n",
    "path_trips = \"../data/nts/UKDA-5340-tab/tab/trip_eul_2002-2022.tab\"\n",
    "trips = pd.read_csv(path_trips, sep=\"\\t\")\n"
   ]
  },
  {
   "cell_type": "code",
   "execution_count": 66,
   "metadata": {},
   "outputs": [],
   "source": [
    "# what year do we want to look at?\n",
    "year = 2022\n",
    "\n",
    "# the survey year is in the PSU table. Get psu_id values that match chosen year\n",
    "# Assuming y is your DataFrame with 'psu_id' and 'year' columns\n",
    "psu_filtered = psu[psu['SurveyYear'] == year]\n",
    "\n",
    "# Get the 'PSUID' values for the chosen year\n",
    "psu_id_year = psu_filtered['PSUID'].unique()"
   ]
  },
  {
   "cell_type": "code",
   "execution_count": 67,
   "metadata": {},
   "outputs": [],
   "source": [
    "# Filter the dataframes based on the chosen year\n",
    "individuals_year = individuals[individuals['PSUID'].isin(psu_id_year)]\n",
    "households_year = households[households['PSUID'].isin(psu_id_year)]\n",
    "trips_year = trips[trips['PSUID'].isin(psu_id_year)]"
   ]
  },
  {
   "cell_type": "code",
   "execution_count": 87,
   "metadata": {},
   "outputs": [
    {
     "data": {
      "text/plain": [
       "array([-10,   2,  -9,   1,  -8])"
      ]
     },
     "execution_count": 87,
     "metadata": {},
     "output_type": "execute_result"
    }
   ],
   "source": [
    "individuals['EdAttn3_B01ID'].unique()"
   ]
  },
  {
   "cell_type": "markdown",
   "metadata": {},
   "source": [
    "## Step 4: Statistical Matching"
   ]
  }
 ],
 "metadata": {
  "kernelspec": {
   "display_name": "acbm-7iKwKWLy-py3.10",
   "language": "python",
   "name": "python3"
  },
  "language_info": {
   "codemirror_mode": {
    "name": "ipython",
    "version": 3
   },
   "file_extension": ".py",
   "mimetype": "text/x-python",
   "name": "python",
   "nbconvert_exporter": "python",
   "pygments_lexer": "ipython3",
   "version": "3.10.12"
  }
 },
 "nbformat": 4,
 "nbformat_minor": 2
}
