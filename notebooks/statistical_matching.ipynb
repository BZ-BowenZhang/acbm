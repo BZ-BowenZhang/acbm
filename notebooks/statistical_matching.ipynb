{
 "cells": [
  {
   "cell_type": "markdown",
   "metadata": {},
   "source": [
    "# Adding activity chains to synthetic populations \n",
    "\n",
    "The purpose of this script is to match each individual in the synthetic population to a respondant from the [National Travel Survey (NTS)](https://beta.ukdataservice.ac.uk/datacatalogue/studies/study?id=5340). \n",
    "\n",
    "### Methods\n",
    "\n",
    "We will try two methods\n",
    "\n",
    "1. categorical matching: joining on relevant socio-demographic variables\n",
    "2. statistical matching, as described in [An unconstrained statistical matching algorithm for combining individual and household level geo-specific census and survey data](https://doi.org/10.1016/j.compenvurbsys.2016.11.003). "
   ]
  },
  {
   "cell_type": "code",
   "execution_count": 1,
   "metadata": {},
   "outputs": [],
   "source": [
    "import matplotlib.pyplot as plt\n",
    "import numpy as np\n",
    "import pandas as pd\n",
    "\n",
    "from acbm.preprocessing import (\n",
    "    count_per_group,\n",
    "    nts_filter_by_region,\n",
    "    nts_filter_by_year,\n",
    "    num_adult_child_hh,\n",
    "    transform_by_group,\n",
    "    truncate_values,\n",
    ")"
   ]
  },
  {
   "cell_type": "markdown",
   "metadata": {},
   "source": [
    "## Step 1: Load in the datasets  "
   ]
  },
  {
   "cell_type": "markdown",
   "metadata": {},
   "source": [
    "### SPC "
   ]
  },
  {
   "cell_type": "code",
   "execution_count": 2,
   "metadata": {},
   "outputs": [],
   "source": [
    "# useful variables\n",
    "region = \"west-yorkshire\""
   ]
  },
  {
   "cell_type": "code",
   "execution_count": 3,
   "metadata": {},
   "outputs": [
    {
     "data": {
      "text/html": [
       "<div>\n",
       "<style scoped>\n",
       "    .dataframe tbody tr th:only-of-type {\n",
       "        vertical-align: middle;\n",
       "    }\n",
       "\n",
       "    .dataframe tbody tr th {\n",
       "        vertical-align: top;\n",
       "    }\n",
       "\n",
       "    .dataframe thead th {\n",
       "        text-align: right;\n",
       "    }\n",
       "</style>\n",
       "<table border=\"1\" class=\"dataframe\">\n",
       "  <thead>\n",
       "    <tr style=\"text-align: right;\">\n",
       "      <th></th>\n",
       "      <th>id</th>\n",
       "      <th>household</th>\n",
       "      <th>workplace</th>\n",
       "      <th>location</th>\n",
       "      <th>events</th>\n",
       "      <th>weekday_diaries</th>\n",
       "      <th>weekend_diaries</th>\n",
       "      <th>orig_pid</th>\n",
       "      <th>id_tus_hh</th>\n",
       "      <th>id_tus_p</th>\n",
       "      <th>...</th>\n",
       "      <th>accommodation_type</th>\n",
       "      <th>communal_type</th>\n",
       "      <th>num_rooms</th>\n",
       "      <th>central_heat</th>\n",
       "      <th>tenure</th>\n",
       "      <th>num_cars</th>\n",
       "      <th>sex</th>\n",
       "      <th>age_years</th>\n",
       "      <th>ethnicity</th>\n",
       "      <th>nssec8</th>\n",
       "    </tr>\n",
       "  </thead>\n",
       "  <tbody>\n",
       "    <tr>\n",
       "      <th>0</th>\n",
       "      <td>0</td>\n",
       "      <td>0</td>\n",
       "      <td>NaN</td>\n",
       "      <td>{'x': -1.7892179489135742, 'y': 53.91915130615...</td>\n",
       "      <td>{'concert_f': 1.2791347489984115e-31, 'concert...</td>\n",
       "      <td>[1583, 13161]</td>\n",
       "      <td>[1582, 13160]</td>\n",
       "      <td>E02002183_0001_001</td>\n",
       "      <td>11291218</td>\n",
       "      <td>1</td>\n",
       "      <td>...</td>\n",
       "      <td>1.0</td>\n",
       "      <td>NaN</td>\n",
       "      <td>2.0</td>\n",
       "      <td>True</td>\n",
       "      <td>2.0</td>\n",
       "      <td>2</td>\n",
       "      <td>1</td>\n",
       "      <td>86</td>\n",
       "      <td>1</td>\n",
       "      <td>1.0</td>\n",
       "    </tr>\n",
       "    <tr>\n",
       "      <th>1</th>\n",
       "      <td>1</td>\n",
       "      <td>1</td>\n",
       "      <td>NaN</td>\n",
       "      <td>{'x': -1.8262380361557007, 'y': 53.92028045654...</td>\n",
       "      <td>{'concert_f': 9.743248151956307e-21, 'concert_...</td>\n",
       "      <td>[2900, 4948, 4972, 7424, 10284, 10586, 12199, ...</td>\n",
       "      <td>[2901, 4949, 4973, 7425, 10285, 10585, 12198, ...</td>\n",
       "      <td>E02002183_0002_001</td>\n",
       "      <td>17291219</td>\n",
       "      <td>1</td>\n",
       "      <td>...</td>\n",
       "      <td>3.0</td>\n",
       "      <td>NaN</td>\n",
       "      <td>6.0</td>\n",
       "      <td>True</td>\n",
       "      <td>2.0</td>\n",
       "      <td>2</td>\n",
       "      <td>1</td>\n",
       "      <td>74</td>\n",
       "      <td>3</td>\n",
       "      <td>1.0</td>\n",
       "    </tr>\n",
       "    <tr>\n",
       "      <th>2</th>\n",
       "      <td>2</td>\n",
       "      <td>1</td>\n",
       "      <td>NaN</td>\n",
       "      <td>{'x': -1.8262380361557007, 'y': 53.92028045654...</td>\n",
       "      <td>{'concert_f': 8.46716103992468e-16, 'concert_f...</td>\n",
       "      <td>[3010, 6389, 9448, 10184, 11598]</td>\n",
       "      <td>[3011, 6388, 9447, 10183, 11599]</td>\n",
       "      <td>E02002183_0002_002</td>\n",
       "      <td>17070713</td>\n",
       "      <td>2</td>\n",
       "      <td>...</td>\n",
       "      <td>3.0</td>\n",
       "      <td>NaN</td>\n",
       "      <td>6.0</td>\n",
       "      <td>True</td>\n",
       "      <td>2.0</td>\n",
       "      <td>2</td>\n",
       "      <td>2</td>\n",
       "      <td>68</td>\n",
       "      <td>1</td>\n",
       "      <td>2.0</td>\n",
       "    </tr>\n",
       "    <tr>\n",
       "      <th>3</th>\n",
       "      <td>3</td>\n",
       "      <td>2</td>\n",
       "      <td>56126.0</td>\n",
       "      <td>{'x': -1.8749940395355225, 'y': 53.94298934936...</td>\n",
       "      <td>{'concert_f': 1.8844366073608398, 'concert_fs'...</td>\n",
       "      <td>[366, 867, 2096, 3678, 5212, 5450, 8145, 9254,...</td>\n",
       "      <td>[365, 868, 2097, 3677, 5213, 5451, 8146, 9253,...</td>\n",
       "      <td>E02002183_0003_001</td>\n",
       "      <td>20310313</td>\n",
       "      <td>1</td>\n",
       "      <td>...</td>\n",
       "      <td>3.0</td>\n",
       "      <td>NaN</td>\n",
       "      <td>6.0</td>\n",
       "      <td>True</td>\n",
       "      <td>2.0</td>\n",
       "      <td>1</td>\n",
       "      <td>1</td>\n",
       "      <td>27</td>\n",
       "      <td>1</td>\n",
       "      <td>4.0</td>\n",
       "    </tr>\n",
       "    <tr>\n",
       "      <th>4</th>\n",
       "      <td>4</td>\n",
       "      <td>2</td>\n",
       "      <td>NaN</td>\n",
       "      <td>{'x': -1.8749940395355225, 'y': 53.94298934936...</td>\n",
       "      <td>{'concert_f': 4.877435207366943, 'concert_fs':...</td>\n",
       "      <td>[1289, 12528, 12870]</td>\n",
       "      <td>[1288, 12529, 12871]</td>\n",
       "      <td>E02002183_0003_002</td>\n",
       "      <td>13010909</td>\n",
       "      <td>3</td>\n",
       "      <td>...</td>\n",
       "      <td>3.0</td>\n",
       "      <td>NaN</td>\n",
       "      <td>6.0</td>\n",
       "      <td>True</td>\n",
       "      <td>2.0</td>\n",
       "      <td>1</td>\n",
       "      <td>2</td>\n",
       "      <td>26</td>\n",
       "      <td>1</td>\n",
       "      <td>6.0</td>\n",
       "    </tr>\n",
       "  </tbody>\n",
       "</table>\n",
       "<p>5 rows × 38 columns</p>\n",
       "</div>"
      ],
      "text/plain": [
       "   id  household  workplace  \\\n",
       "0   0          0        NaN   \n",
       "1   1          1        NaN   \n",
       "2   2          1        NaN   \n",
       "3   3          2    56126.0   \n",
       "4   4          2        NaN   \n",
       "\n",
       "                                            location  \\\n",
       "0  {'x': -1.7892179489135742, 'y': 53.91915130615...   \n",
       "1  {'x': -1.8262380361557007, 'y': 53.92028045654...   \n",
       "2  {'x': -1.8262380361557007, 'y': 53.92028045654...   \n",
       "3  {'x': -1.8749940395355225, 'y': 53.94298934936...   \n",
       "4  {'x': -1.8749940395355225, 'y': 53.94298934936...   \n",
       "\n",
       "                                              events  \\\n",
       "0  {'concert_f': 1.2791347489984115e-31, 'concert...   \n",
       "1  {'concert_f': 9.743248151956307e-21, 'concert_...   \n",
       "2  {'concert_f': 8.46716103992468e-16, 'concert_f...   \n",
       "3  {'concert_f': 1.8844366073608398, 'concert_fs'...   \n",
       "4  {'concert_f': 4.877435207366943, 'concert_fs':...   \n",
       "\n",
       "                                     weekday_diaries  \\\n",
       "0                                      [1583, 13161]   \n",
       "1  [2900, 4948, 4972, 7424, 10284, 10586, 12199, ...   \n",
       "2                   [3010, 6389, 9448, 10184, 11598]   \n",
       "3  [366, 867, 2096, 3678, 5212, 5450, 8145, 9254,...   \n",
       "4                               [1289, 12528, 12870]   \n",
       "\n",
       "                                     weekend_diaries            orig_pid  \\\n",
       "0                                      [1582, 13160]  E02002183_0001_001   \n",
       "1  [2901, 4949, 4973, 7425, 10285, 10585, 12198, ...  E02002183_0002_001   \n",
       "2                   [3011, 6388, 9447, 10183, 11599]  E02002183_0002_002   \n",
       "3  [365, 868, 2097, 3677, 5213, 5451, 8146, 9253,...  E02002183_0003_001   \n",
       "4                               [1288, 12529, 12871]  E02002183_0003_002   \n",
       "\n",
       "   id_tus_hh  id_tus_p  ...  accommodation_type communal_type num_rooms  \\\n",
       "0   11291218         1  ...                 1.0           NaN       2.0   \n",
       "1   17291219         1  ...                 3.0           NaN       6.0   \n",
       "2   17070713         2  ...                 3.0           NaN       6.0   \n",
       "3   20310313         1  ...                 3.0           NaN       6.0   \n",
       "4   13010909         3  ...                 3.0           NaN       6.0   \n",
       "\n",
       "  central_heat  tenure  num_cars  sex  age_years  ethnicity  nssec8  \n",
       "0         True     2.0         2    1         86          1     1.0  \n",
       "1         True     2.0         2    1         74          3     1.0  \n",
       "2         True     2.0         2    2         68          1     2.0  \n",
       "3         True     2.0         1    1         27          1     4.0  \n",
       "4         True     2.0         1    2         26          1     6.0  \n",
       "\n",
       "[5 rows x 38 columns]"
      ]
     },
     "execution_count": 3,
     "metadata": {},
     "output_type": "execute_result"
    }
   ],
   "source": [
    "# Read in the spc data (parquet format)\n",
    "spc = pd.read_parquet('../data/spc_output/' + region + '_people_hh.parquet')\n",
    "spc.head()"
   ]
  },
  {
   "cell_type": "code",
   "execution_count": 4,
   "metadata": {},
   "outputs": [],
   "source": [
    "# temporary reduction of the dataset for quick analysis\n",
    "spc = spc.head(5000)"
   ]
  },
  {
   "cell_type": "code",
   "execution_count": 5,
   "metadata": {},
   "outputs": [
    {
     "data": {
      "text/plain": [
       "Index(['id', 'household', 'workplace', 'location', 'events', 'weekday_diaries',\n",
       "       'weekend_diaries', 'orig_pid', 'id_tus_hh', 'id_tus_p', 'pid_hs',\n",
       "       'msoa', 'oa', 'members', 'bmi', 'has_cardiovascular_disease',\n",
       "       'has_diabetes', 'has_high_blood_pressure', 'number_medications',\n",
       "       'self_assessed_health', 'life_satisfaction', 'sic1d2007', 'sic2d2007',\n",
       "       'soc2010', 'pwkstat', 'salary_yearly', 'salary_hourly', 'hid',\n",
       "       'accommodation_type', 'communal_type', 'num_rooms', 'central_heat',\n",
       "       'tenure', 'num_cars', 'sex', 'age_years', 'ethnicity', 'nssec8'],\n",
       "      dtype='object')"
      ]
     },
     "execution_count": 5,
     "metadata": {},
     "output_type": "execute_result"
    }
   ],
   "source": [
    "spc.columns"
   ]
  },
  {
   "cell_type": "markdown",
   "metadata": {},
   "source": [
    "### NTS\n",
    "\n",
    "The NTS is split up into multiple tables. We will load in the following tables:\n",
    "- individuals\n",
    "- households\n",
    "- trips"
   ]
  },
  {
   "cell_type": "code",
   "execution_count": 6,
   "metadata": {},
   "outputs": [],
   "source": [
    "# path where datasets are stored\n",
    "path_psu = \"../data/nts/UKDA-5340-tab/tab/psu_eul_2002-2022.tab\"\n",
    "psu = pd.read_csv(path_psu, sep=\"\\t\")\n",
    "\n",
    "path_individuals = \"../data/nts/UKDA-5340-tab/tab/individual_eul_2002-2022.tab\"\n",
    "nts_individuals = pd.read_csv(path_individuals, sep=\"\\t\")\n",
    "\n",
    "path_households = \"../data/nts/UKDA-5340-tab/tab/household_eul_2002-2022.tab\"\n",
    "nts_households = pd.read_csv(path_households, sep=\"\\t\")\n",
    "\n",
    "path_trips = \"../data/nts/UKDA-5340-tab/tab/trip_eul_2002-2022.tab\"\n",
    "nts_trips = pd.read_csv(path_trips, sep=\"\\t\")\n"
   ]
  },
  {
   "cell_type": "markdown",
   "metadata": {},
   "source": [
    "#### Filter by year\n",
    "\n",
    "We will filter the NTS data to only include data from specific years. We can choose only 1 year, or multiple years to increase our sample size and the likelihood of a match with the spc"
   ]
  },
  {
   "cell_type": "code",
   "execution_count": 7,
   "metadata": {},
   "outputs": [],
   "source": [
    "years = [2019, 2021, 2022]\n",
    "\n",
    "nts_individuals_filtered = nts_filter_by_year(nts_individuals, psu, years)\n",
    "nts_households_filtered = nts_filter_by_year(nts_households, psu, years)\n",
    "nts_trips_filtered = nts_filter_by_year(nts_trips, psu, years)\n",
    "\n"
   ]
  },
  {
   "cell_type": "markdown",
   "metadata": {},
   "source": [
    "#### Filter by geography \n",
    "\n",
    "I will not do this for categorical matching, as it reduces the sample significantly, and leads to more spc households not being matched"
   ]
  },
  {
   "cell_type": "code",
   "execution_count": 8,
   "metadata": {},
   "outputs": [],
   "source": [
    "# regions = ['Yorkshire and the Humber', 'North West']\n",
    "\n",
    "# nts_individuals_filtered = nts_filter_by_region(nts_individuals_filtered, psu, regions)\n",
    "# nts_households_filtered = nts_filter_by_region(nts_households_filtered, psu, regions)\n",
    "# nts_trips_filtered = nts_filter_by_region(nts_trips_filtered, psu, regions)\n"
   ]
  },
  {
   "cell_type": "markdown",
   "metadata": {},
   "source": [
    "Create dictionaries of key value pairs"
   ]
  },
  {
   "cell_type": "code",
   "execution_count": 9,
   "metadata": {},
   "outputs": [],
   "source": [
    "'''\n",
    "guide to the dictionaries:\n",
    "\n",
    "_nts_hh: from NTS households table\n",
    "_nts_ind: from NTS individuals table\n",
    "_spc: from SPC\n",
    "\n",
    "'''\n",
    "\n",
    "\n",
    "# ---------- NTS\n",
    "\n",
    "# Create a dictionary for the HHIncome2002_B02ID column\n",
    "income_dict_nts_hh = {\n",
    "     '1': '0-25k',\n",
    "     '2': '25k-50k',\n",
    "     '3': '50k+',\n",
    "    '-8': 'NA',\n",
    "    # should be -10, but\n",
    "    # it could be a typo in household_eul_2002-2022_ukda_data_dictionary\n",
    "    '-1': 'DEAD'\n",
    "}\n",
    "\n",
    "# Create a dictionary for the HHoldEmploy_B01ID column\n",
    "# (PT: Part time, FT: Full time)\n",
    "employment_dict_nts_hh = {\n",
    "    '1': 'None',\n",
    "    '2': '0 FT, 1 PT',\n",
    "    '3': '1 FT, 0 PT',\n",
    "    '4': '0 FT, 2 PT',\n",
    "    '5': '1 FT, 1 PT',\n",
    "    '6': '2 FT, 0 PT',\n",
    "    '7': '1 FT, 2+ PT',\n",
    "    '8': '2 FT, 1+ PT',\n",
    "    '9': '0 FT, 3+ PT',\n",
    "    '10': '3+ FT, 0 PT',\n",
    "    '11': '3+ FT, 1+ PT',\n",
    "    '-8': 'NA',\n",
    "    '-10': 'DEAD'\n",
    "}\n",
    "\n",
    "# Create a dictionary for the Ten1_B02ID column\n",
    "tenure_dict_nts_hh = {\n",
    "    '1': 'Owns / buying',\n",
    "    '2': 'Rents',\n",
    "    '3': 'Other (including rent free)',\n",
    "    '-8': 'NA',\n",
    "    '-9': 'DNA',\n",
    "    '-10': 'DEAD'\n",
    "}\n",
    "\n",
    "\n",
    "# ---------- SPC\n",
    "\n",
    "\n",
    "# create a dictionary for the pwkstat column\n",
    "employment_dict_spc = {\n",
    "    '0': 'Not applicable (age < 16)',\n",
    "    '1': 'Employee FT',\n",
    "    '2': 'Employee PT',\n",
    "    '3': 'Employee unspecified',\n",
    "    '4': 'Self-employed',\n",
    "    '5': 'Unemployed',\n",
    "    '6': 'Retired',\n",
    "    '7': 'Homemaker/Maternal leave',\n",
    "    '8': 'Student',\n",
    "    '9': 'Long term sickness/disability',\n",
    "    '10': 'Other'\n",
    "}\n",
    "\n",
    "\n",
    "# Create a dictionary for the tenure column\n",
    "tenure_dict_spc = {\n",
    "    '1': 'Owned: Owned outright',\n",
    "    '2': 'Owned: Owned with a mortgage or loan or shared ownership',\n",
    "    '3': 'Rented or living rent free: Total',\n",
    "    '4': 'Rented: Social rented',\n",
    "    '5': 'Rented: Private rented or living rent free',\n",
    "    '-8': 'NA',\n",
    "    '-9': 'DNA',\n",
    "    '-10': 'DEAD'\n",
    "}\n",
    "\n",
    "\n",
    "# Combine the dictionaries into a dictionary of dictionaries\n",
    "\n",
    "dict_nts = {\n",
    "    'HHIncome2002_B02ID': income_dict_nts_hh,\n",
    "    'HHoldEmploy_B01ID': employment_dict_nts_hh,\n",
    "    'Ten1_B02ID': tenure_dict_nts_hh\n",
    "}\n",
    "\n",
    "dict_spc = {\n",
    "    'pwkstat': employment_dict_spc,\n",
    "    'tenure': tenure_dict_spc\n",
    "}\n",
    "\n"
   ]
  },
  {
   "cell_type": "markdown",
   "metadata": {},
   "source": [
    "## Step 2: Decide on matching variables  \n",
    "\n",
    "We need to identify the socio-demographic characteristics that we will match on. The schema for the synthetic population can be found [here](https://github.com/alan-turing-institute/uatk-spc/blob/main/synthpop.proto). \n",
    "\n",
    "Matching between the SPC and the NTS will happen in two steps: \n",
    "\n",
    "1. Match at the household level\n",
    "2. Match individuals within the household\n",
    "\n",
    "### Household level matching \n",
    "\n",
    "| Variable           | Name (NTS)           | Name (SPC)      | Transformation (NTS) | Transformation (SPC) |\n",
    "| ------------------ | -------------------- | --------------- | -------------------- | -------------------- |\n",
    "| Household income   | `HHIncome2002_BO2ID` | `salary_yearly` | NA                   | Group by household ID and sum |\n",
    "| Number of adults   | `HHoldNumAdults`        | `age_years`     | NA                   | Group by household ID and count |\n",
    "| Number of children | `HHoldNumChildren`      | `age_years`     | NA                   | Group by household ID and count |\n",
    "| Employment status  | `HHoldEmploy_B01ID`  | `pwkstat`       | NA                   | a) match to NTS categories. b) group by household ID |\n",
    "| Car ownership      | `NumCar`             | `num_cars`      | SPC is capped at 2. We change all entries > 2 to 2 | NA  |\n",
    "\n",
    "Other columns to match in the future\n",
    "| Variable           | Name (NTS)           | Name (SPC)      | Transformation (NTS) | Transformation (SPC) |\n",
    "| ------------------ | -------------------- | --------------- | -------------------- | -------------------- |\n",
    "| Type of tenancy    | `Ten1_B02ID`         | `tenure`        | ?? | ?? |\n",
    "|  Urban-Rural classification of residence | `Settlement2011EW_B04ID`         | NA     | NA            | Spatial join between [layer](https://www.gov.uk/government/collections/rural-urban-classification) and SPC  |\n",
    "\n"
   ]
  },
  {
   "cell_type": "markdown",
   "metadata": {},
   "source": [
    "### 2.1 Edit SPC columns "
   ]
  },
  {
   "cell_type": "markdown",
   "metadata": {},
   "source": [
    "#### Household Income\n",
    "\n",
    "Edit the spc so that we have household income as well as individual income."
   ]
  },
  {
   "cell_type": "code",
   "execution_count": 10,
   "metadata": {},
   "outputs": [],
   "source": [
    "# add household income column for SPC\n",
    "spc_edited = transform_by_group(data = spc,\n",
    "                                group_col = 'household',\n",
    "                                transform_col = 'salary_yearly',\n",
    "                                new_col = 'salary_yearly_hh',\n",
    "                                transformation_type = 'sum')\n"
   ]
  },
  {
   "cell_type": "markdown",
   "metadata": {},
   "source": [
    "Check number of individuals and households with reported salaries"
   ]
  },
  {
   "cell_type": "code",
   "execution_count": 11,
   "metadata": {},
   "outputs": [
    {
     "data": {
      "image/png": "[encoded data removed]",
      "text/plain": [
       "<Figure size 1200x600 with 2 Axes>"
      ]
     },
     "metadata": {},
     "output_type": "display_data"
    },
    {
     "name": "stdout",
     "output_type": "stream",
     "text": [
      "Individuals in SPC = 5000\n",
      "Individuals without reported income = 3029\n",
      "% of individuals with reported income = 39.4\n",
      "Households in SPC = 2373\n",
      "Households without reported income = 1577\n",
      "% of households with reported income = 66.5\n"
     ]
    }
   ],
   "source": [
    "# histogram for individuals and households (include NAs as 0)\n",
    "fig, ax = plt.subplots(1, 2, figsize=(12, 6), sharey=True)\n",
    "ax[0].hist(spc_edited['salary_yearly'].fillna(0), bins=30)\n",
    "ax[0].set_title('Salary yearly (Individuals)')\n",
    "ax[0].set_xlabel('Salary yearly')\n",
    "ax[0].set_ylabel('Frequency')\n",
    "ax[1].hist(spc_edited['salary_yearly_hh'].fillna(0), bins=30)\n",
    "ax[1].set_title('Salary yearly (Households)')\n",
    "ax[1].set_xlabel('Salary yearly')\n",
    "plt.show()\n",
    "\n",
    "\n",
    "# statistics\n",
    "\n",
    "# print the total number of rows in the spc. Add a message \"Values =\"\n",
    "print(\"Individuals in SPC =\", spc_edited.shape[0])\n",
    "# number of individuals without reported income\n",
    "print(\"Individuals without reported income =\", spc_edited['salary_yearly'].isna().sum())\n",
    "# % of individuals with reported income (salary_yearly not equal NA)\n",
    "print(\"% of individuals with reported income =\", round((spc_edited['salary_yearly'].count() / spc_edited.shape[0]) * 100, 1))\n",
    "\n",
    "# print the total number of households\n",
    "print(\"Households in SPC =\", spc_edited['household'].nunique())\n",
    "# number of households without reported income (salary yearly_hh = 0)\n",
    "print(\"Households without reported income =\", spc_edited[spc_edited['salary_yearly_hh'] == 0].shape[0])\n",
    "# # % of households with reported income (salary_yearly not equal NA)\n",
    "print(\"% of households with reported income =\", round((spc_edited[spc_edited['salary_yearly_hh'] == 0].shape[0] / spc_edited['household'].nunique()) * 100, 1))"
   ]
  },
  {
   "cell_type": "code",
   "execution_count": 12,
   "metadata": {},
   "outputs": [],
   "source": [
    "\n",
    "\n",
    "# --- Recode column so that it matches the reported NTS values (Use income_dict_nts_hh dictionary for reference)\n",
    "\n",
    "# Define the bins\n",
    "bins = [0, 24999, 49999, np.inf]\n",
    "# Define the labels for the bins\n",
    "labels = [1, 2, 3]\n",
    "\n",
    "spc_edited = spc_edited.copy()\n",
    "\n",
    "spc_edited['salary_yearly_hh_cat'] = (pd.cut(spc_edited['salary_yearly_hh'], bins=bins, labels=labels)\n",
    "                                       .astype('str')\n",
    "                                       .astype('float'))\n",
    "\n",
    "\n",
    "# replace NA values with -8 (to be consistent with NTS)\n",
    "spc_edited['salary_yearly_hh_cat'] = spc_edited['salary_yearly_hh_cat'].fillna(-8)\n",
    "\n",
    "# Convert the column to int\n",
    "spc_edited['salary_yearly_hh_cat'] = spc_edited['salary_yearly_hh_cat'].astype('int')\n"
   ]
  },
  {
   "cell_type": "markdown",
   "metadata": {},
   "source": [
    "#### Household Composition (No. of Adults / Children)"
   ]
  },
  {
   "cell_type": "code",
   "execution_count": 13,
   "metadata": {},
   "outputs": [],
   "source": [
    "# Number of adults and children in the household\n",
    "\n",
    "spc_edited = num_adult_child_hh(data = spc_edited,\n",
    "                                group_col = 'household',\n",
    "                                age_col = 'age_years')"
   ]
  },
  {
   "cell_type": "markdown",
   "metadata": {},
   "source": [
    "#### Employment Status"
   ]
  },
  {
   "cell_type": "code",
   "execution_count": 14,
   "metadata": {},
   "outputs": [
    {
     "data": {
      "text/plain": [
       "({'0': 'Not applicable (age < 16)',\n",
       "  '1': 'Employee FT',\n",
       "  '2': 'Employee PT',\n",
       "  '3': 'Employee unspecified',\n",
       "  '4': 'Self-employed',\n",
       "  '5': 'Unemployed',\n",
       "  '6': 'Retired',\n",
       "  '7': 'Homemaker/Maternal leave',\n",
       "  '8': 'Student',\n",
       "  '9': 'Long term sickness/disability',\n",
       "  '10': 'Other'},\n",
       " {'1': 'None',\n",
       "  '2': '0 FT, 1 PT',\n",
       "  '3': '1 FT, 0 PT',\n",
       "  '4': '0 FT, 2 PT',\n",
       "  '5': '1 FT, 1 PT',\n",
       "  '6': '2 FT, 0 PT',\n",
       "  '7': '1 FT, 2+ PT',\n",
       "  '8': '2 FT, 1+ PT',\n",
       "  '9': '0 FT, 3+ PT',\n",
       "  '10': '3+ FT, 0 PT',\n",
       "  '11': '3+ FT, 1+ PT',\n",
       "  '-8': 'NA',\n",
       "  '-10': 'DEAD'})"
      ]
     },
     "execution_count": 14,
     "metadata": {},
     "output_type": "execute_result"
    }
   ],
   "source": [
    "# Employment status\n",
    "\n",
    "# check the colums values from our dictionary\n",
    "dict_spc['pwkstat'], dict_nts['HHoldEmploy_B01ID']"
   ]
  },
  {
   "cell_type": "markdown",
   "metadata": {},
   "source": [
    "The NTS only reports the number of Full time and Part time employees for each household. For the SPC we also need to get the number of full time and part time workers for each household.\n",
    "\n",
    "Step 1: Create a column for Full time and a column for Part time"
   ]
  },
  {
   "cell_type": "code",
   "execution_count": 15,
   "metadata": {},
   "outputs": [
    {
     "data": {
      "text/html": [
       "<div>\n",
       "<style scoped>\n",
       "    .dataframe tbody tr th:only-of-type {\n",
       "        vertical-align: middle;\n",
       "    }\n",
       "\n",
       "    .dataframe tbody tr th {\n",
       "        vertical-align: top;\n",
       "    }\n",
       "\n",
       "    .dataframe thead th {\n",
       "        text-align: right;\n",
       "    }\n",
       "</style>\n",
       "<table border=\"1\" class=\"dataframe\">\n",
       "  <thead>\n",
       "    <tr style=\"text-align: right;\">\n",
       "      <th></th>\n",
       "      <th>pwkstat_FT_hh</th>\n",
       "      <th>pwkstat_PT_hh</th>\n",
       "    </tr>\n",
       "    <tr>\n",
       "      <th>household</th>\n",
       "      <th></th>\n",
       "      <th></th>\n",
       "    </tr>\n",
       "  </thead>\n",
       "  <tbody>\n",
       "    <tr>\n",
       "      <th>0</th>\n",
       "      <td>0</td>\n",
       "      <td>0</td>\n",
       "    </tr>\n",
       "    <tr>\n",
       "      <th>1</th>\n",
       "      <td>0</td>\n",
       "      <td>0</td>\n",
       "    </tr>\n",
       "    <tr>\n",
       "      <th>2</th>\n",
       "      <td>2</td>\n",
       "      <td>0</td>\n",
       "    </tr>\n",
       "    <tr>\n",
       "      <th>3</th>\n",
       "      <td>1</td>\n",
       "      <td>0</td>\n",
       "    </tr>\n",
       "    <tr>\n",
       "      <th>4</th>\n",
       "      <td>0</td>\n",
       "      <td>0</td>\n",
       "    </tr>\n",
       "    <tr>\n",
       "      <th>5</th>\n",
       "      <td>1</td>\n",
       "      <td>0</td>\n",
       "    </tr>\n",
       "    <tr>\n",
       "      <th>6</th>\n",
       "      <td>0</td>\n",
       "      <td>0</td>\n",
       "    </tr>\n",
       "    <tr>\n",
       "      <th>7</th>\n",
       "      <td>1</td>\n",
       "      <td>0</td>\n",
       "    </tr>\n",
       "    <tr>\n",
       "      <th>8</th>\n",
       "      <td>1</td>\n",
       "      <td>0</td>\n",
       "    </tr>\n",
       "    <tr>\n",
       "      <th>9</th>\n",
       "      <td>0</td>\n",
       "      <td>1</td>\n",
       "    </tr>\n",
       "  </tbody>\n",
       "</table>\n",
       "</div>"
      ],
      "text/plain": [
       "           pwkstat_FT_hh  pwkstat_PT_hh\n",
       "household                              \n",
       "0                      0              0\n",
       "1                      0              0\n",
       "2                      2              0\n",
       "3                      1              0\n",
       "4                      0              0\n",
       "5                      1              0\n",
       "6                      0              0\n",
       "7                      1              0\n",
       "8                      1              0\n",
       "9                      0              1"
      ]
     },
     "execution_count": 15,
     "metadata": {},
     "output_type": "execute_result"
    }
   ],
   "source": [
    "# We will only use '1' and '2' for the employment status\n",
    "\n",
    "counts_df = count_per_group(df = spc_edited,\n",
    "                            group_col = 'household',\n",
    "                            count_col = 'pwkstat',\n",
    "                            values=[1, 2],\n",
    "                            value_names=['pwkstat_FT_hh','pwkstat_PT_hh'])\n",
    "\n",
    "counts_df.head(10)"
   ]
  },
  {
   "cell_type": "markdown",
   "metadata": {},
   "source": [
    "Create a column that matches the NTS categories (m FT, n PT)"
   ]
  },
  {
   "cell_type": "code",
   "execution_count": 16,
   "metadata": {},
   "outputs": [
    {
     "data": {
      "text/html": [
       "<div>\n",
       "<style scoped>\n",
       "    .dataframe tbody tr th:only-of-type {\n",
       "        vertical-align: middle;\n",
       "    }\n",
       "\n",
       "    .dataframe tbody tr th {\n",
       "        vertical-align: top;\n",
       "    }\n",
       "\n",
       "    .dataframe thead th {\n",
       "        text-align: right;\n",
       "    }\n",
       "</style>\n",
       "<table border=\"1\" class=\"dataframe\">\n",
       "  <thead>\n",
       "    <tr style=\"text-align: right;\">\n",
       "      <th></th>\n",
       "      <th>household</th>\n",
       "      <th>pwkstat</th>\n",
       "      <th>pwkstat_FT_hh</th>\n",
       "      <th>pwkstat_PT_hh</th>\n",
       "      <th>pwkstat_NTS_match</th>\n",
       "    </tr>\n",
       "  </thead>\n",
       "  <tbody>\n",
       "    <tr>\n",
       "      <th>0</th>\n",
       "      <td>0</td>\n",
       "      <td>6</td>\n",
       "      <td>0</td>\n",
       "      <td>0</td>\n",
       "      <td>1</td>\n",
       "    </tr>\n",
       "    <tr>\n",
       "      <th>1</th>\n",
       "      <td>1</td>\n",
       "      <td>6</td>\n",
       "      <td>0</td>\n",
       "      <td>0</td>\n",
       "      <td>1</td>\n",
       "    </tr>\n",
       "    <tr>\n",
       "      <th>2</th>\n",
       "      <td>1</td>\n",
       "      <td>6</td>\n",
       "      <td>0</td>\n",
       "      <td>0</td>\n",
       "      <td>1</td>\n",
       "    </tr>\n",
       "    <tr>\n",
       "      <th>3</th>\n",
       "      <td>2</td>\n",
       "      <td>1</td>\n",
       "      <td>2</td>\n",
       "      <td>0</td>\n",
       "      <td>6</td>\n",
       "    </tr>\n",
       "    <tr>\n",
       "      <th>4</th>\n",
       "      <td>2</td>\n",
       "      <td>1</td>\n",
       "      <td>2</td>\n",
       "      <td>0</td>\n",
       "      <td>6</td>\n",
       "    </tr>\n",
       "    <tr>\n",
       "      <th>5</th>\n",
       "      <td>3</td>\n",
       "      <td>1</td>\n",
       "      <td>1</td>\n",
       "      <td>0</td>\n",
       "      <td>3</td>\n",
       "    </tr>\n",
       "    <tr>\n",
       "      <th>6</th>\n",
       "      <td>4</td>\n",
       "      <td>10</td>\n",
       "      <td>0</td>\n",
       "      <td>0</td>\n",
       "      <td>1</td>\n",
       "    </tr>\n",
       "    <tr>\n",
       "      <th>7</th>\n",
       "      <td>4</td>\n",
       "      <td>4</td>\n",
       "      <td>0</td>\n",
       "      <td>0</td>\n",
       "      <td>1</td>\n",
       "    </tr>\n",
       "    <tr>\n",
       "      <th>8</th>\n",
       "      <td>4</td>\n",
       "      <td>0</td>\n",
       "      <td>0</td>\n",
       "      <td>0</td>\n",
       "      <td>1</td>\n",
       "    </tr>\n",
       "    <tr>\n",
       "      <th>9</th>\n",
       "      <td>5</td>\n",
       "      <td>1</td>\n",
       "      <td>1</td>\n",
       "      <td>0</td>\n",
       "      <td>3</td>\n",
       "    </tr>\n",
       "  </tbody>\n",
       "</table>\n",
       "</div>"
      ],
      "text/plain": [
       "   household  pwkstat  pwkstat_FT_hh  pwkstat_PT_hh  pwkstat_NTS_match\n",
       "0          0        6              0              0                  1\n",
       "1          1        6              0              0                  1\n",
       "2          1        6              0              0                  1\n",
       "3          2        1              2              0                  6\n",
       "4          2        1              2              0                  6\n",
       "5          3        1              1              0                  3\n",
       "6          4       10              0              0                  1\n",
       "7          4        4              0              0                  1\n",
       "8          4        0              0              0                  1\n",
       "9          5        1              1              0                  3"
      ]
     },
     "execution_count": 16,
     "metadata": {},
     "output_type": "execute_result"
    }
   ],
   "source": [
    "# We want to match the SPC values to the NTS\n",
    "dict_nts['HHoldEmploy_B01ID']\n",
    "'''\n",
    "{\n",
    "    '1': 'None',\n",
    "    '2': '0 FT, 1 PT',\n",
    "    '3': '1 FT, 0 PT',\n",
    "    '4': '0 FT, 2 PT',\n",
    "    '5': '1 FT, 1 PT',\n",
    "    '6': '2 FT, 0 PT',\n",
    "    '7': '1 FT, 2+ PT',\n",
    "    '8': '2 FT, 1+ PT',\n",
    "    '9': '0 FT, 3+ PT',\n",
    "    '10': '3+ FT, 0 PT',\n",
    "    '11': '3+ FT, 1+ PT',\n",
    "    '-8': 'NA',\n",
    "    '-10': 'DEAD'}\n",
    " '''\n",
    "\n",
    "# 1) Match each row to the NTS\n",
    "\n",
    "# Define the conditions and outputs.\n",
    "# We are using the keys in dict_nts['HHoldEmploy_B01ID'] as reference\n",
    "conditions = [\n",
    "    (counts_df['pwkstat_FT_hh'] == 0) & (counts_df['pwkstat_PT_hh'] == 0),\n",
    "    (counts_df['pwkstat_FT_hh'] == 0) & (counts_df['pwkstat_PT_hh'] == 1),\n",
    "    (counts_df['pwkstat_FT_hh'] == 1) & (counts_df['pwkstat_PT_hh'] == 0),\n",
    "    (counts_df['pwkstat_FT_hh'] == 0) & (counts_df['pwkstat_PT_hh'] == 2),\n",
    "    (counts_df['pwkstat_FT_hh'] == 1) & (counts_df['pwkstat_PT_hh'] == 1),\n",
    "    (counts_df['pwkstat_FT_hh'] == 2) & (counts_df['pwkstat_PT_hh'] == 0),\n",
    "    (counts_df['pwkstat_FT_hh'] == 1) & (counts_df['pwkstat_PT_hh'] >= 2),\n",
    "    (counts_df['pwkstat_FT_hh'] == 2) & (counts_df['pwkstat_PT_hh'] >= 1),\n",
    "    (counts_df['pwkstat_FT_hh'] == 0) & (counts_df['pwkstat_PT_hh'] >= 3),\n",
    "    (counts_df['pwkstat_FT_hh'] >= 3) & (counts_df['pwkstat_PT_hh'] == 0),\n",
    "    (counts_df['pwkstat_FT_hh'] >= 3) & (counts_df['pwkstat_PT_hh'] >= 1)\n",
    "]\n",
    "\n",
    "# Define the corresponding outputs based on dict_nts['HHoldEmploy_B01ID]\n",
    "outputs = [1, 2, 3, 4, 5, 6, 7, 8, 9, 10, 11]\n",
    "\n",
    "# Create a new column using np.select\n",
    "counts_df['pwkstat_NTS_match'] = np.select(conditions,\n",
    "                                           outputs,\n",
    "                                           default= -8)\n",
    "\n",
    "\n",
    "\n",
    "# 2) merge back onto the spc\n",
    "spc_edited = spc_edited.merge(counts_df, left_on='household', right_index=True)\n",
    "\n",
    "# check the output\n",
    "spc_edited[['household', 'pwkstat', 'pwkstat_FT_hh', 'pwkstat_PT_hh', 'pwkstat_NTS_match']].head(10)\n"
   ]
  },
  {
   "cell_type": "code",
   "execution_count": 17,
   "metadata": {},
   "outputs": [
    {
     "data": {
      "image/png": "[encoded data removed]",
      "text/plain": [
       "<Figure size 1200x600 with 2 Axes>"
      ]
     },
     "metadata": {},
     "output_type": "display_data"
    },
    {
     "data": {
      "image/png": "[encoded data removed]",
      "text/plain": [
       "<Figure size 1200x600 with 2 Axes>"
      ]
     },
     "metadata": {},
     "output_type": "display_data"
    }
   ],
   "source": [
    "# bar plot of counts_df['pwkstat_NTS_match'] and nts_households_filtered['HHoldEmploy_B01ID']\n",
    "fig, ax = plt.subplots(1, 2, figsize=(12, 6))\n",
    "ax[0].bar(counts_df['pwkstat_NTS_match'].value_counts().index, counts_df['pwkstat_NTS_match'].value_counts().values)\n",
    "ax[0].set_title('SPC')\n",
    "ax[0].set_xlabel('Employment status - Household level')\n",
    "ax[0].set_ylabel('Frequency')\n",
    "ax[1].bar(nts_households_filtered['HHoldEmploy_B01ID'].value_counts().index, nts_households_filtered['HHoldEmploy_B01ID'].value_counts().values)\n",
    "ax[1].set_title('NTS')\n",
    "ax[1].set_xlabel('Employment status - Household level')\n",
    "plt.show()\n",
    "\n",
    "# same as above but percentages\n",
    "fig, ax = plt.subplots(1, 2, figsize=(12, 6))\n",
    "ax[0].bar(counts_df['pwkstat_NTS_match'].value_counts().index, counts_df['pwkstat_NTS_match'].value_counts(normalize=True).values)\n",
    "ax[0].set_title('SPC')\n",
    "ax[0].set_xlabel('Employment status - Household level')\n",
    "ax[0].set_ylabel('Frequency (normalized)')\n",
    "ax[1].bar(nts_households_filtered['HHoldEmploy_B01ID'].value_counts().index, nts_households_filtered['HHoldEmploy_B01ID'].value_counts(normalize=True).values)\n",
    "ax[1].set_title('NTS')\n",
    "ax[1].set_xlabel('Employment status - Household level')\n",
    "plt.show()\n",
    "\n"
   ]
  },
  {
   "cell_type": "markdown",
   "metadata": {},
   "source": [
    "### 2.2 Edit NTS columns"
   ]
  },
  {
   "cell_type": "markdown",
   "metadata": {},
   "source": [
    "#### Number of cars\n",
    "\n",
    "- `SPC.num_cars` only has values [0, 1, 2]. 2 is for all households with 2 or more cars\n",
    "- `NTS.NumCar` is more detailed. It has the actual value of the number of cars. We will cap this at 2."
   ]
  },
  {
   "cell_type": "code",
   "execution_count": 18,
   "metadata": {},
   "outputs": [
    {
     "name": "stderr",
     "output_type": "stream",
     "text": [
      "/tmp/ipykernel_1071464/1336610326.py:2: SettingWithCopyWarning: \n",
      "A value is trying to be set on a copy of a slice from a DataFrame.\n",
      "Try using .loc[row_indexer,col_indexer] = value instead\n",
      "\n",
      "See the caveats in the documentation: https://pandas.pydata.org/pandas-docs/stable/user_guide/indexing.html#returning-a-view-versus-a-copy\n",
      "  nts_households_filtered.loc[:, 'NumCar_SPC_match'] = nts_households_filtered['NumCar'].apply(truncate_values, upper = 2)\n"
     ]
    },
    {
     "data": {
      "text/html": [
       "<div>\n",
       "<style scoped>\n",
       "    .dataframe tbody tr th:only-of-type {\n",
       "        vertical-align: middle;\n",
       "    }\n",
       "\n",
       "    .dataframe tbody tr th {\n",
       "        vertical-align: top;\n",
       "    }\n",
       "\n",
       "    .dataframe thead th {\n",
       "        text-align: right;\n",
       "    }\n",
       "</style>\n",
       "<table border=\"1\" class=\"dataframe\">\n",
       "  <thead>\n",
       "    <tr style=\"text-align: right;\">\n",
       "      <th></th>\n",
       "      <th>NumCar</th>\n",
       "      <th>NumCar_SPC_match</th>\n",
       "    </tr>\n",
       "  </thead>\n",
       "  <tbody>\n",
       "    <tr>\n",
       "      <th>142954</th>\n",
       "      <td>1.0</td>\n",
       "      <td>1.0</td>\n",
       "    </tr>\n",
       "    <tr>\n",
       "      <th>142955</th>\n",
       "      <td>1.0</td>\n",
       "      <td>1.0</td>\n",
       "    </tr>\n",
       "    <tr>\n",
       "      <th>142956</th>\n",
       "      <td>0.0</td>\n",
       "      <td>0.0</td>\n",
       "    </tr>\n",
       "    <tr>\n",
       "      <th>142957</th>\n",
       "      <td>2.0</td>\n",
       "      <td>2.0</td>\n",
       "    </tr>\n",
       "    <tr>\n",
       "      <th>142958</th>\n",
       "      <td>1.0</td>\n",
       "      <td>1.0</td>\n",
       "    </tr>\n",
       "    <tr>\n",
       "      <th>142959</th>\n",
       "      <td>1.0</td>\n",
       "      <td>1.0</td>\n",
       "    </tr>\n",
       "    <tr>\n",
       "      <th>142960</th>\n",
       "      <td>2.0</td>\n",
       "      <td>2.0</td>\n",
       "    </tr>\n",
       "    <tr>\n",
       "      <th>142961</th>\n",
       "      <td>1.0</td>\n",
       "      <td>1.0</td>\n",
       "    </tr>\n",
       "    <tr>\n",
       "      <th>142962</th>\n",
       "      <td>2.0</td>\n",
       "      <td>2.0</td>\n",
       "    </tr>\n",
       "    <tr>\n",
       "      <th>142963</th>\n",
       "      <td>1.0</td>\n",
       "      <td>1.0</td>\n",
       "    </tr>\n",
       "    <tr>\n",
       "      <th>142964</th>\n",
       "      <td>1.0</td>\n",
       "      <td>1.0</td>\n",
       "    </tr>\n",
       "    <tr>\n",
       "      <th>142965</th>\n",
       "      <td>1.0</td>\n",
       "      <td>1.0</td>\n",
       "    </tr>\n",
       "    <tr>\n",
       "      <th>142966</th>\n",
       "      <td>0.0</td>\n",
       "      <td>0.0</td>\n",
       "    </tr>\n",
       "    <tr>\n",
       "      <th>142967</th>\n",
       "      <td>1.0</td>\n",
       "      <td>1.0</td>\n",
       "    </tr>\n",
       "    <tr>\n",
       "      <th>142968</th>\n",
       "      <td>1.0</td>\n",
       "      <td>1.0</td>\n",
       "    </tr>\n",
       "    <tr>\n",
       "      <th>142969</th>\n",
       "      <td>0.0</td>\n",
       "      <td>0.0</td>\n",
       "    </tr>\n",
       "    <tr>\n",
       "      <th>142970</th>\n",
       "      <td>2.0</td>\n",
       "      <td>2.0</td>\n",
       "    </tr>\n",
       "    <tr>\n",
       "      <th>142971</th>\n",
       "      <td>0.0</td>\n",
       "      <td>0.0</td>\n",
       "    </tr>\n",
       "    <tr>\n",
       "      <th>142972</th>\n",
       "      <td>1.0</td>\n",
       "      <td>1.0</td>\n",
       "    </tr>\n",
       "    <tr>\n",
       "      <th>142973</th>\n",
       "      <td>3.0</td>\n",
       "      <td>2.0</td>\n",
       "    </tr>\n",
       "  </tbody>\n",
       "</table>\n",
       "</div>"
      ],
      "text/plain": [
       "        NumCar  NumCar_SPC_match\n",
       "142954     1.0               1.0\n",
       "142955     1.0               1.0\n",
       "142956     0.0               0.0\n",
       "142957     2.0               2.0\n",
       "142958     1.0               1.0\n",
       "142959     1.0               1.0\n",
       "142960     2.0               2.0\n",
       "142961     1.0               1.0\n",
       "142962     2.0               2.0\n",
       "142963     1.0               1.0\n",
       "142964     1.0               1.0\n",
       "142965     1.0               1.0\n",
       "142966     0.0               0.0\n",
       "142967     1.0               1.0\n",
       "142968     1.0               1.0\n",
       "142969     0.0               0.0\n",
       "142970     2.0               2.0\n",
       "142971     0.0               0.0\n",
       "142972     1.0               1.0\n",
       "142973     3.0               2.0"
      ]
     },
     "execution_count": 18,
     "metadata": {},
     "output_type": "execute_result"
    }
   ],
   "source": [
    "\n",
    "# Create a new column in NTS\n",
    "nts_households_filtered.loc[:, 'NumCar_SPC_match'] = nts_households_filtered['NumCar'].apply(truncate_values, upper = 2)\n",
    "\n",
    "nts_households_filtered[['NumCar', 'NumCar_SPC_match']].head(20)"
   ]
  },
  {
   "cell_type": "markdown",
   "metadata": {},
   "source": [
    "#### Type of tenancy\n",
    "\n",
    "Breakdown between NTS and SPC is different. "
   ]
  },
  {
   "cell_type": "code",
   "execution_count": 19,
   "metadata": {},
   "outputs": [
    {
     "data": {
      "text/plain": [
       "({'1': 'Owns / buying',\n",
       "  '2': 'Rents',\n",
       "  '3': 'Other (including rent free)',\n",
       "  '-8': 'NA',\n",
       "  '-9': 'DNA',\n",
       "  '-10': 'DEAD'},\n",
       " {'1': 'Owned: Owned outright',\n",
       "  '2': 'Owned: Owned with a mortgage or loan or shared ownership',\n",
       "  '3': 'Rented or living rent free: Total',\n",
       "  '4': 'Rented: Social rented',\n",
       "  '5': 'Rented: Private rented or living rent free',\n",
       "  '-8': 'NA',\n",
       "  '-9': 'DNA',\n",
       "  '-10': 'DEAD'})"
      ]
     },
     "execution_count": 19,
     "metadata": {},
     "output_type": "execute_result"
    }
   ],
   "source": [
    "dict_nts['Ten1_B02ID'], dict_spc['tenure']"
   ]
  },
  {
   "cell_type": "markdown",
   "metadata": {},
   "source": [
    "Create dictionaries to map tenure onto the spc and nts dfs"
   ]
  },
  {
   "cell_type": "code",
   "execution_count": 20,
   "metadata": {},
   "outputs": [],
   "source": [
    "# Dictionary showing how we want the final columns to look like\n",
    "tenure_dict_nts_spc = {\n",
    "    1: 'Owned',\n",
    "    2: 'Rented or rent free',\n",
    "    -8: 'NA',\n",
    "    -9: 'DNA',\n",
    "    -10: 'DEAD'\n",
    "}\n",
    "\n",
    "# Matching NTS to tenure_dict_nts_spc\n",
    "\n",
    "# Create a new dictionary for matching\n",
    "matching_dict_nts_tenure = {\n",
    "    1: 1,\n",
    "    2: 2,\n",
    "    3: 2\n",
    "}\n",
    "\n",
    "matching_dict_spc_tenure = {\n",
    "    1: 1, #'Owned: Owned outright' : 'Owned'\n",
    "    2: 1, #'Owned: Owned with a mortgage or loan or shared ownership', : 'Owned'\n",
    "    3: 2, #'Rented or living rent free: Total', : 'Rented or rent free'\n",
    "    4: 2, #'Rented: Social rented', : 'Rented or rent free'\n",
    "    5: 2, #'Rented: Private rented or living rent free', : 'Rented or rent free'\n",
    "}\n",
    "\n"
   ]
  },
  {
   "cell_type": "markdown",
   "metadata": {},
   "source": [
    "map dictionaries to create comparable columns"
   ]
  },
  {
   "cell_type": "code",
   "execution_count": 21,
   "metadata": {},
   "outputs": [
    {
     "name": "stderr",
     "output_type": "stream",
     "text": [
      "/tmp/ipykernel_1071464/3351388236.py:2: SettingWithCopyWarning: \n",
      "A value is trying to be set on a copy of a slice from a DataFrame.\n",
      "Try using .loc[row_indexer,col_indexer] = value instead\n",
      "\n",
      "See the caveats in the documentation: https://pandas.pydata.org/pandas-docs/stable/user_guide/indexing.html#returning-a-view-versus-a-copy\n",
      "  nts_households_filtered['tenure_nts_for_matching'] = (nts_households_filtered['Ten1_B02ID']\n"
     ]
    }
   ],
   "source": [
    "# Create a new column in nts_households_filtered\n",
    "nts_households_filtered['tenure_nts_for_matching'] = (nts_households_filtered['Ten1_B02ID']\n",
    "                                                    .map(matching_dict_nts_tenure) # map the values to the new dictionary\n",
    "                                                    .fillna(nts_households_filtered['Ten1_B02ID'])) # fill the NaNs with the original values\n",
    "\n",
    "# Create a new column in spc\n",
    "spc_edited['tenure_spc_for_matching'] = (spc_edited['tenure']\n",
    "                                        .map(matching_dict_spc_tenure) # map the values to the new dictionary\n",
    "                                        .fillna(spc_edited['tenure'])) # fill the NaNs with the original values"
   ]
  },
  {
   "cell_type": "markdown",
   "metadata": {},
   "source": [
    "## Step 3: Matching at Household Level\n",
    "\n",
    "Now that we've prepared all the columns, we can start matching."
   ]
  },
  {
   "cell_type": "markdown",
   "metadata": {},
   "source": [
    "### 3.1 Categorical matching\n",
    "\n",
    "We will match on (a subset of) the following columns:\n",
    "\n",
    "| Matching variable | NTS column | SPC column |\n",
    "| ------------------| ---------- | ---------- |\n",
    "| Household income  | `HHIncome2002_BO2ID` | `salary_yearly_hh_cat` |\n",
    "| Number of adults  | `HHoldNumAdults` | `num_adults` |\n",
    "| Number of children | `HHoldNumChildren` | `num_children` |\n",
    "| Employment status | `HHoldEmploy_B01ID` | `pwkstat_NTS_match` |\n",
    "| Car ownership | `NumCar_SPC_match` | `num_cars` |\n",
    "| Type of tenancy | `tenure_nts_for_matching` | `tenure_spc_for_matching` |"
   ]
  },
  {
   "cell_type": "markdown",
   "metadata": {},
   "source": [
    "Prepare SPC df for matching"
   ]
  },
  {
   "cell_type": "code",
   "execution_count": 22,
   "metadata": {},
   "outputs": [
    {
     "data": {
      "text/html": [
       "<div>\n",
       "<style scoped>\n",
       "    .dataframe tbody tr th:only-of-type {\n",
       "        vertical-align: middle;\n",
       "    }\n",
       "\n",
       "    .dataframe tbody tr th {\n",
       "        vertical-align: top;\n",
       "    }\n",
       "\n",
       "    .dataframe thead th {\n",
       "        text-align: right;\n",
       "    }\n",
       "</style>\n",
       "<table border=\"1\" class=\"dataframe\">\n",
       "  <thead>\n",
       "    <tr style=\"text-align: right;\">\n",
       "      <th></th>\n",
       "      <th>hid</th>\n",
       "      <th>salary_yearly_hh_cat</th>\n",
       "      <th>num_adults</th>\n",
       "      <th>num_children</th>\n",
       "      <th>pwkstat_NTS_match</th>\n",
       "      <th>num_cars</th>\n",
       "      <th>tenure_spc_for_matching</th>\n",
       "    </tr>\n",
       "  </thead>\n",
       "  <tbody>\n",
       "    <tr>\n",
       "      <th>0</th>\n",
       "      <td>E02002183_0001</td>\n",
       "      <td>-8</td>\n",
       "      <td>1</td>\n",
       "      <td>0</td>\n",
       "      <td>1</td>\n",
       "      <td>2</td>\n",
       "      <td>1.0</td>\n",
       "    </tr>\n",
       "    <tr>\n",
       "      <th>1</th>\n",
       "      <td>E02002183_0002</td>\n",
       "      <td>-8</td>\n",
       "      <td>2</td>\n",
       "      <td>0</td>\n",
       "      <td>1</td>\n",
       "      <td>2</td>\n",
       "      <td>1.0</td>\n",
       "    </tr>\n",
       "    <tr>\n",
       "      <th>3</th>\n",
       "      <td>E02002183_0003</td>\n",
       "      <td>3</td>\n",
       "      <td>2</td>\n",
       "      <td>0</td>\n",
       "      <td>6</td>\n",
       "      <td>1</td>\n",
       "      <td>1.0</td>\n",
       "    </tr>\n",
       "    <tr>\n",
       "      <th>5</th>\n",
       "      <td>E02002183_0004</td>\n",
       "      <td>2</td>\n",
       "      <td>1</td>\n",
       "      <td>0</td>\n",
       "      <td>3</td>\n",
       "      <td>1</td>\n",
       "      <td>1.0</td>\n",
       "    </tr>\n",
       "    <tr>\n",
       "      <th>6</th>\n",
       "      <td>E02002183_0005</td>\n",
       "      <td>-8</td>\n",
       "      <td>2</td>\n",
       "      <td>1</td>\n",
       "      <td>1</td>\n",
       "      <td>2</td>\n",
       "      <td>1.0</td>\n",
       "    </tr>\n",
       "    <tr>\n",
       "      <th>9</th>\n",
       "      <td>E02002183_0006</td>\n",
       "      <td>3</td>\n",
       "      <td>1</td>\n",
       "      <td>0</td>\n",
       "      <td>3</td>\n",
       "      <td>1</td>\n",
       "      <td>2.0</td>\n",
       "    </tr>\n",
       "    <tr>\n",
       "      <th>10</th>\n",
       "      <td>E02002183_0007</td>\n",
       "      <td>-8</td>\n",
       "      <td>2</td>\n",
       "      <td>1</td>\n",
       "      <td>1</td>\n",
       "      <td>1</td>\n",
       "      <td>1.0</td>\n",
       "    </tr>\n",
       "    <tr>\n",
       "      <th>13</th>\n",
       "      <td>E02002183_0008</td>\n",
       "      <td>2</td>\n",
       "      <td>1</td>\n",
       "      <td>0</td>\n",
       "      <td>3</td>\n",
       "      <td>2</td>\n",
       "      <td>1.0</td>\n",
       "    </tr>\n",
       "    <tr>\n",
       "      <th>14</th>\n",
       "      <td>E02002183_0009</td>\n",
       "      <td>1</td>\n",
       "      <td>2</td>\n",
       "      <td>0</td>\n",
       "      <td>3</td>\n",
       "      <td>2</td>\n",
       "      <td>1.0</td>\n",
       "    </tr>\n",
       "    <tr>\n",
       "      <th>16</th>\n",
       "      <td>E02002183_0010</td>\n",
       "      <td>1</td>\n",
       "      <td>2</td>\n",
       "      <td>1</td>\n",
       "      <td>2</td>\n",
       "      <td>2</td>\n",
       "      <td>1.0</td>\n",
       "    </tr>\n",
       "  </tbody>\n",
       "</table>\n",
       "</div>"
      ],
      "text/plain": [
       "               hid  salary_yearly_hh_cat  num_adults  num_children  \\\n",
       "0   E02002183_0001                    -8           1             0   \n",
       "1   E02002183_0002                    -8           2             0   \n",
       "3   E02002183_0003                     3           2             0   \n",
       "5   E02002183_0004                     2           1             0   \n",
       "6   E02002183_0005                    -8           2             1   \n",
       "9   E02002183_0006                     3           1             0   \n",
       "10  E02002183_0007                    -8           2             1   \n",
       "13  E02002183_0008                     2           1             0   \n",
       "14  E02002183_0009                     1           2             0   \n",
       "16  E02002183_0010                     1           2             1   \n",
       "\n",
       "    pwkstat_NTS_match  num_cars  tenure_spc_for_matching  \n",
       "0                   1         2                      1.0  \n",
       "1                   1         2                      1.0  \n",
       "3                   6         1                      1.0  \n",
       "5                   3         1                      1.0  \n",
       "6                   1         2                      1.0  \n",
       "9                   3         1                      2.0  \n",
       "10                  1         1                      1.0  \n",
       "13                  3         2                      1.0  \n",
       "14                  3         2                      1.0  \n",
       "16                  2         2                      1.0  "
      ]
     },
     "execution_count": 22,
     "metadata": {},
     "output_type": "execute_result"
    }
   ],
   "source": [
    "# Select multiple columns\n",
    "spc_matching = spc_edited[[\n",
    "    'hid',\n",
    "    'salary_yearly_hh_cat', 'num_adults',\n",
    "    'num_children', 'pwkstat_NTS_match',\n",
    "    'num_cars', 'tenure_spc_for_matching']]\n",
    "\n",
    "# edit the df so that we have one row per hid\n",
    "spc_matching = spc_matching.drop_duplicates(subset='hid')\n",
    "\n",
    "spc_matching.head(10)"
   ]
  },
  {
   "cell_type": "code",
   "execution_count": 112,
   "metadata": {},
   "outputs": [
    {
     "data": {
      "text/plain": [
       "(2373, 7)"
      ]
     },
     "execution_count": 112,
     "metadata": {},
     "output_type": "execute_result"
    }
   ],
   "source": [
    "spc_matching.shape"
   ]
  },
  {
   "cell_type": "markdown",
   "metadata": {},
   "source": [
    "Prepare NTS df for matching"
   ]
  },
  {
   "cell_type": "code",
   "execution_count": 23,
   "metadata": {},
   "outputs": [
    {
     "data": {
      "text/html": [
       "<div>\n",
       "<style scoped>\n",
       "    .dataframe tbody tr th:only-of-type {\n",
       "        vertical-align: middle;\n",
       "    }\n",
       "\n",
       "    .dataframe tbody tr th {\n",
       "        vertical-align: top;\n",
       "    }\n",
       "\n",
       "    .dataframe thead th {\n",
       "        text-align: right;\n",
       "    }\n",
       "</style>\n",
       "<table border=\"1\" class=\"dataframe\">\n",
       "  <thead>\n",
       "    <tr style=\"text-align: right;\">\n",
       "      <th></th>\n",
       "      <th>HouseholdID</th>\n",
       "      <th>HHIncome2002_B02ID</th>\n",
       "      <th>HHoldNumAdults</th>\n",
       "      <th>HHoldNumChildren</th>\n",
       "      <th>HHoldEmploy_B01ID</th>\n",
       "      <th>NumCar_SPC_match</th>\n",
       "      <th>tenure_nts_for_matching</th>\n",
       "    </tr>\n",
       "  </thead>\n",
       "  <tbody>\n",
       "    <tr>\n",
       "      <th>142954</th>\n",
       "      <td>2019001895</td>\n",
       "      <td>1.0</td>\n",
       "      <td>3</td>\n",
       "      <td>0</td>\n",
       "      <td>1</td>\n",
       "      <td>1.0</td>\n",
       "      <td>1.0</td>\n",
       "    </tr>\n",
       "    <tr>\n",
       "      <th>142955</th>\n",
       "      <td>2019002676</td>\n",
       "      <td>1.0</td>\n",
       "      <td>1</td>\n",
       "      <td>0</td>\n",
       "      <td>3</td>\n",
       "      <td>1.0</td>\n",
       "      <td>1.0</td>\n",
       "    </tr>\n",
       "    <tr>\n",
       "      <th>142956</th>\n",
       "      <td>2019001891</td>\n",
       "      <td>1.0</td>\n",
       "      <td>2</td>\n",
       "      <td>0</td>\n",
       "      <td>1</td>\n",
       "      <td>0.0</td>\n",
       "      <td>2.0</td>\n",
       "    </tr>\n",
       "    <tr>\n",
       "      <th>142957</th>\n",
       "      <td>2019002687</td>\n",
       "      <td>2.0</td>\n",
       "      <td>4</td>\n",
       "      <td>0</td>\n",
       "      <td>4</td>\n",
       "      <td>2.0</td>\n",
       "      <td>2.0</td>\n",
       "    </tr>\n",
       "    <tr>\n",
       "      <th>142958</th>\n",
       "      <td>2019001913</td>\n",
       "      <td>1.0</td>\n",
       "      <td>1</td>\n",
       "      <td>0</td>\n",
       "      <td>3</td>\n",
       "      <td>1.0</td>\n",
       "      <td>1.0</td>\n",
       "    </tr>\n",
       "    <tr>\n",
       "      <th>142959</th>\n",
       "      <td>2019002273</td>\n",
       "      <td>2.0</td>\n",
       "      <td>1</td>\n",
       "      <td>0</td>\n",
       "      <td>3</td>\n",
       "      <td>1.0</td>\n",
       "      <td>2.0</td>\n",
       "    </tr>\n",
       "    <tr>\n",
       "      <th>142960</th>\n",
       "      <td>2019001906</td>\n",
       "      <td>3.0</td>\n",
       "      <td>3</td>\n",
       "      <td>0</td>\n",
       "      <td>5</td>\n",
       "      <td>2.0</td>\n",
       "      <td>1.0</td>\n",
       "    </tr>\n",
       "    <tr>\n",
       "      <th>142961</th>\n",
       "      <td>2019001910</td>\n",
       "      <td>1.0</td>\n",
       "      <td>2</td>\n",
       "      <td>0</td>\n",
       "      <td>1</td>\n",
       "      <td>1.0</td>\n",
       "      <td>1.0</td>\n",
       "    </tr>\n",
       "    <tr>\n",
       "      <th>142962</th>\n",
       "      <td>2019002688</td>\n",
       "      <td>3.0</td>\n",
       "      <td>2</td>\n",
       "      <td>2</td>\n",
       "      <td>6</td>\n",
       "      <td>2.0</td>\n",
       "      <td>1.0</td>\n",
       "    </tr>\n",
       "    <tr>\n",
       "      <th>142963</th>\n",
       "      <td>2019002686</td>\n",
       "      <td>1.0</td>\n",
       "      <td>2</td>\n",
       "      <td>0</td>\n",
       "      <td>2</td>\n",
       "      <td>1.0</td>\n",
       "      <td>1.0</td>\n",
       "    </tr>\n",
       "  </tbody>\n",
       "</table>\n",
       "</div>"
      ],
      "text/plain": [
       "        HouseholdID  HHIncome2002_B02ID  HHoldNumAdults  HHoldNumChildren  \\\n",
       "142954   2019001895                 1.0               3                 0   \n",
       "142955   2019002676                 1.0               1                 0   \n",
       "142956   2019001891                 1.0               2                 0   \n",
       "142957   2019002687                 2.0               4                 0   \n",
       "142958   2019001913                 1.0               1                 0   \n",
       "142959   2019002273                 2.0               1                 0   \n",
       "142960   2019001906                 3.0               3                 0   \n",
       "142961   2019001910                 1.0               2                 0   \n",
       "142962   2019002688                 3.0               2                 2   \n",
       "142963   2019002686                 1.0               2                 0   \n",
       "\n",
       "        HHoldEmploy_B01ID  NumCar_SPC_match  tenure_nts_for_matching  \n",
       "142954                  1               1.0                      1.0  \n",
       "142955                  3               1.0                      1.0  \n",
       "142956                  1               0.0                      2.0  \n",
       "142957                  4               2.0                      2.0  \n",
       "142958                  3               1.0                      1.0  \n",
       "142959                  3               1.0                      2.0  \n",
       "142960                  5               2.0                      1.0  \n",
       "142961                  1               1.0                      1.0  \n",
       "142962                  6               2.0                      1.0  \n",
       "142963                  2               1.0                      1.0  "
      ]
     },
     "execution_count": 23,
     "metadata": {},
     "output_type": "execute_result"
    }
   ],
   "source": [
    "nts_matching = nts_households_filtered[[\n",
    "    'HouseholdID','HHIncome2002_B02ID',\n",
    "    'HHoldNumAdults', 'HHoldNumChildren',\n",
    "    'HHoldEmploy_B01ID', 'NumCar_SPC_match',\n",
    "    'tenure_nts_for_matching']]\n",
    "\n",
    "nts_matching.head(10)"
   ]
  },
  {
   "cell_type": "markdown",
   "metadata": {},
   "source": [
    "Dictionary of matching columns. We extract column names from this dictioary when matching on a subset of the columns"
   ]
  },
  {
   "cell_type": "code",
   "execution_count": 104,
   "metadata": {},
   "outputs": [
    {
     "data": {
      "text/plain": [
       "{'household_id': ['hid', 'HouseholdID'],\n",
       " 'yearly_income': ['salary_yearly_hh_cat', 'HHIncome2002_B02ID'],\n",
       " 'number_adults': ['num_adults', 'HHoldNumAdults'],\n",
       " 'number_children': ['num_children', 'HHoldNumChildren'],\n",
       " 'employment_status': ['pwkstat_NTS_match', 'HHoldEmploy_B01ID'],\n",
       " 'number_cars': ['num_cars', 'NumCar_SPC_match'],\n",
       " 'tenure_status': ['tenure_spc_for_matching', 'tenure_nts_for_matching']}"
      ]
     },
     "execution_count": 104,
     "metadata": {},
     "output_type": "execute_result"
    }
   ],
   "source": [
    "# column_names (keys) for the dictionary\n",
    "matching_ids = ['household_id', 'yearly_income', 'number_adults', 'number_children', 'employment_status', 'number_cars', 'tenure_status']\n",
    "\n",
    "# i want the value to be a list with spc_matching and nts_matching\n",
    "matching_dfs_dict = {column_name: [spc_value, nts_value] for column_name, spc_value, nts_value in zip(matching_ids, spc_matching, nts_matching)}\n",
    "matching_dfs_dict"
   ]
  },
  {
   "cell_type": "markdown",
   "metadata": {},
   "source": [
    "Attempt 1: Match on all possible columns"
   ]
  },
  {
   "cell_type": "code",
   "execution_count": 130,
   "metadata": {},
   "outputs": [
    {
     "data": {
      "text/plain": [
       "Text(0.5, 1.0, 'Categorical Matching')"
      ]
     },
     "execution_count": 130,
     "metadata": {},
     "output_type": "execute_result"
    },
    {
     "data": {
      "image/png": "[encoded data removed]",
      "text/plain": [
       "<Figure size 640x480 with 1 Axes>"
      ]
     },
     "metadata": {},
     "output_type": "display_data"
    }
   ],
   "source": [
    "# columns for matching \n",
    "keys = ['yearly_income', 'number_adults', 'number_children', 'employment_status', 'number_cars', 'tenure_status']\n",
    "\n",
    "\n",
    "spc_cols = [matching_dfs_dict[key][0] for key in keys]\n",
    "nts_cols = [matching_dfs_dict[key][1] for key in keys]\n",
    "\n",
    "# match\n",
    "spc_nts_1 = spc_matching.merge(nts_matching,\n",
    "                               left_on= spc_cols,\n",
    "                               right_on= nts_cols,\n",
    "                               how = 'left')\n",
    "\n",
    "# Calculate how many rows from nts_matching are matched onto each hid in spc_matching,\n",
    "spc_nts_1['count'] = spc_nts_1.groupby('hid')['HouseholdID'].transform('count')\n",
    "\n",
    "spc_nts_1_hist = spc_nts_1.drop_duplicates(subset='hid')\n",
    "\n",
    "\n",
    "# plot a histogram of the counts and label the axis and title\n",
    "plt.hist(spc_nts_1_hist['count'], bins=50)\n",
    "plt.xlabel('Number of matches per household')\n",
    "plt.ylabel('Number of households')\n",
    "plt.title('Categorical Matching')"
   ]
  },
  {
   "cell_type": "markdown",
   "metadata": {},
   "source": [
    "Attempt 2: Match on a subset of columns (exclude salary)"
   ]
  },
  {
   "cell_type": "code",
   "execution_count": 117,
   "metadata": {},
   "outputs": [
    {
     "data": {
      "text/plain": [
       "Text(0.5, 1.0, 'Categorical Matching')"
      ]
     },
     "execution_count": 117,
     "metadata": {},
     "output_type": "execute_result"
    },
    {
     "data": {
      "image/png": "[encoded data removed]",
      "text/plain": [
       "<Figure size 640x480 with 1 Axes>"
      ]
     },
     "metadata": {},
     "output_type": "display_data"
    }
   ],
   "source": [
    "# columns for matching\n",
    "keys = ['number_adults', 'number_children', 'employment_status', 'number_cars', 'tenure_status']\n",
    "# extract equivalent column names from dictionary\n",
    "spc_cols = [matching_dfs_dict[key][0] for key in keys]\n",
    "nts_cols = [matching_dfs_dict[key][1] for key in keys]\n",
    "\n",
    "# matc\n",
    "spc_nts_2 = spc_matching.merge(nts_matching,\n",
    "                               left_on= spc_cols,\n",
    "                               right_on= nts_cols,\n",
    "                               how = 'left')\n",
    "\n",
    "# Calculate how many rows from nts_matching are matched onto each hid in spc_matching,\n",
    "spc_nts_2['count'] = spc_nts_2.groupby('hid')['HouseholdID'].transform('count')\n",
    "\n",
    "spc_nts_2_hist = spc_nts_2.drop_duplicates(subset='hid')\n",
    "\n",
    "\n",
    "# plot a histogram of the counts and label the axis and title\n",
    "plt.hist(spc_nts_2_hist['count'], bins=50)\n",
    "plt.xlabel('Number of matches per household')\n",
    "plt.ylabel('Niumber of households')\n",
    "plt.title('Categorical Matching')"
   ]
  },
  {
   "cell_type": "markdown",
   "metadata": {},
   "source": [
    "Attempt 3: Match on a subset of columns (exclude salary and tenure)"
   ]
  },
  {
   "cell_type": "code",
   "execution_count": 131,
   "metadata": {},
   "outputs": [
    {
     "data": {
      "text/plain": [
       "Text(0.5, 1.0, 'Categorical Matching')"
      ]
     },
     "execution_count": 131,
     "metadata": {},
     "output_type": "execute_result"
    },
    {
     "data": {
      "image/png": "[encoded data removed]",
      "text/plain": [
       "<Figure size 640x480 with 1 Axes>"
      ]
     },
     "metadata": {},
     "output_type": "display_data"
    }
   ],
   "source": [
    "\n",
    "# columns for matching\n",
    "keys = ['number_adults', 'number_children', 'employment_status', 'number_cars']\n",
    "# extract equivalent column names from dictionary\n",
    "spc_cols = [matching_dfs_dict[key][0] for key in keys]\n",
    "nts_cols = [matching_dfs_dict[key][1] for key in keys]\n",
    "\n",
    "# matc\n",
    "spc_nts_3 = spc_matching.merge(nts_matching,\n",
    "                               left_on= spc_cols,\n",
    "                               right_on= nts_cols,\n",
    "                               how = 'left')\n",
    "\n",
    "# Calculate how many rows from nts_matching are matched onto each hid in spc_matching,\n",
    "spc_nts_3['count'] = spc_nts_3.groupby('hid')['HouseholdID'].transform('count')\n",
    "\n",
    "spc_nts_3_hist = spc_nts_3.drop_duplicates(subset='hid')\n",
    "\n",
    "\n",
    "# plot a histogram of the counts and label the axis and title\n",
    "plt.hist(spc_nts_3_hist['count'], bins=50)\n",
    "plt.xlabel('Number of matches per household')\n",
    "plt.ylabel('Niumber of households')\n",
    "plt.title('Categorical Matching')\n"
   ]
  },
  {
   "cell_type": "markdown",
   "metadata": {},
   "source": [
    "Attempt 4: Match on a subset of columns (exclude salary, tenure, and employment status)"
   ]
  },
  {
   "cell_type": "code",
   "execution_count": 132,
   "metadata": {},
   "outputs": [
    {
     "data": {
      "text/plain": [
       "Text(0.5, 1.0, 'Categorical Matching')"
      ]
     },
     "execution_count": 132,
     "metadata": {},
     "output_type": "execute_result"
    },
    {
     "data": {
      "image/png": "[encoded data removed]",
      "text/plain": [
       "<Figure size 640x480 with 1 Axes>"
      ]
     },
     "metadata": {},
     "output_type": "display_data"
    }
   ],
   "source": [
    "\n",
    "# columns for matching\n",
    "keys = ['number_adults', 'number_children', 'number_cars']\n",
    "# extract equivalent column names from dictionary\n",
    "spc_cols = [matching_dfs_dict[key][0] for key in keys]\n",
    "nts_cols = [matching_dfs_dict[key][1] for key in keys]\n",
    "\n",
    "# matc\n",
    "spc_nts_4 = spc_matching.merge(nts_matching,\n",
    "                               left_on= spc_cols,\n",
    "                               right_on= nts_cols,\n",
    "                               how = 'left')\n",
    "\n",
    "# Calculate how many rows from nts_matching are matched onto each hid in spc_matching,\n",
    "spc_nts_4['count'] = spc_nts_4.groupby('hid')['HouseholdID'].transform('count')\n",
    "\n",
    "spc_nts_4_hist = spc_nts_4.drop_duplicates(subset='hid')\n",
    "\n",
    "\n",
    "# plot a histogram of the counts and label the axis and title\n",
    "plt.hist(spc_nts_4_hist['count'], bins=50)\n",
    "plt.xlabel('Number of matches per household')\n",
    "plt.ylabel('Niumber of households')\n",
    "plt.title('Categorical Matching')\n"
   ]
  },
  {
   "cell_type": "markdown",
   "metadata": {},
   "source": [
    "Removing salary has a significant impact on matching"
   ]
  },
  {
   "cell_type": "code",
   "execution_count": 136,
   "metadata": {},
   "outputs": [
    {
     "name": "stdout",
     "output_type": "stream",
     "text": [
      "531 Unmatched households - matching on all categories\n",
      "34 Unmatched households - exclusing Salary from matching\n",
      "20 Unmatched households - exclusing Salary and Tenure from matching\n",
      "4 Unmatched households - exclusing Salary, Tenure and Employment status from matching\n"
     ]
    }
   ],
   "source": [
    "# Attempt 1\n",
    "print(spc_nts_1_hist[spc_nts_1_hist['count'] == 0].shape[0], \"Unmatched households - matching on all categories\")\n",
    "# Attempt 2\n",
    "print(spc_nts_2_hist[spc_nts_2_hist['count'] == 0].shape[0], \"Unmatched households - exclusing Salary from matching\")\n",
    "# Attempt 3\n",
    "print(spc_nts_3_hist[spc_nts_3_hist['count'] == 0].shape[0], \"Unmatched households - exclusing Salary and Tenure from matching\")\n",
    "# Attempt 4\n",
    "print(spc_nts_4_hist[spc_nts_4_hist['count'] == 0].shape[0], \"Unmatched households - exclusing Salary, Tenure and Employment status from matching\")"
   ]
  },
  {
   "cell_type": "markdown",
   "metadata": {},
   "source": [
    "Check how many households from the NTS matched onto each SPC household"
   ]
  },
  {
   "cell_type": "code",
   "execution_count": 137,
   "metadata": {},
   "outputs": [
    {
     "data": {
      "text/plain": [
       "count\n",
       "0      0.22\n",
       "1      0.10\n",
       "4      0.06\n",
       "2      0.05\n",
       "116    0.03\n",
       "       ... \n",
       "68     0.00\n",
       "131    0.00\n",
       "24     0.00\n",
       "27     0.00\n",
       "87     0.00\n",
       "Name: proportion, Length: 78, dtype: float64"
      ]
     },
     "execution_count": 137,
     "metadata": {},
     "output_type": "execute_result"
    }
   ],
   "source": [
    "# how many rows in spc_matching were not matched onto any rows in nts_matching?\n",
    "spc_nts_1_hist['count'].value_counts()\n",
    "# calculate th percentage of rows in spc_matching that were not matched onto any rows in nts_matching\n",
    "# round the result to 2 decimal places\n",
    "spc_nts_1_hist['count'].value_counts(normalize=True).round(2)\n",
    "# plot a histogram of the counts, and add a line for the mean value\n",
    "#spc_nts_hist['count'].plot(kind='hist', bins=100)\n",
    "\n"
   ]
  },
  {
   "cell_type": "markdown",
   "metadata": {},
   "source": [
    "Store the results in a dictionary, \n",
    "\n",
    "- Key: SPC hid\n",
    "- Value: List of NTS Household IDs\n",
    "\n"
   ]
  },
  {
   "cell_type": "code",
   "execution_count": null,
   "metadata": {},
   "outputs": [],
   "source": [
    "# Each hid in spc_matching is joined onto multiple HouseholdID in nts_matching.\n",
    "# Create a dictionary to store the hid to HouseholdID matches\n",
    "\n",
    "# Initialize an empty dictionary\n",
    "hid_to_HouseholdID = {}\n",
    "\n",
    "# Loop through the DataFrame\n",
    "for index, row in spc_nts.iterrows():\n",
    "    # Get the hid and HouseholdID from the row\n",
    "    hid = row['hid']\n",
    "    HouseholdID = row['HouseholdID']\n",
    "\n",
    "    # If the hid is already a key in the dictionary, append the HouseholdID to its list\n",
    "    if hid in hid_to_HouseholdID:\n",
    "        hid_to_HouseholdID[hid].append(HouseholdID)\n",
    "    # If the hid is not a key in the dictionary, add it with a new list that contains the HouseholdID\n",
    "    else:\n",
    "        hid_to_HouseholdID[hid] = [HouseholdID]\n"
   ]
  },
  {
   "cell_type": "code",
   "execution_count": null,
   "metadata": {},
   "outputs": [],
   "source": [
    "# Check the first 10 entries in the dictionary\n",
    "#list(hid_to_HouseholdID.items())[:100]\n",
    "\n",
    "# access all the values for a specific key in the dictionary\n",
    "hid_to_HouseholdID['E02002183_0010']\n",
    "\n"
   ]
  },
  {
   "cell_type": "code",
   "execution_count": null,
   "metadata": {},
   "outputs": [],
   "source": [
    "# for each key in the dictionary, sample 1 of the values associated with it and store it in a new dictionary\n",
    "\n",
    "'''\n",
    "- iterate over each key-value pair in the hid_to_HouseholdID dictionary.\n",
    "- For each key-value pair, use np.random.choice(value) to randomly select \n",
    "one item from the list of values associated with the current key.\n",
    "- create a new dictionary hid_to_HouseholdID_sample where each key from the \n",
    "original dictionary is associated with one randomly selected value from the \n",
    "original list of values.\n",
    "\n",
    "'''\n",
    "hid_to_HouseholdID_sample = {key: np.random.choice(value) for key, value in hid_to_HouseholdID.items()}\n"
   ]
  },
  {
   "cell_type": "code",
   "execution_count": null,
   "metadata": {},
   "outputs": [],
   "source": [
    "# same logic as cell above, but repeat it multiple times and store each result as a separate dictionary in a list\n",
    "hid_to_HouseholdID_sample_list = [{key: np.random.choice(value) for key, value in hid_to_HouseholdID.items()} for i in range(100)]"
   ]
  },
  {
   "cell_type": "code",
   "execution_count": null,
   "metadata": {},
   "outputs": [],
   "source": [
    "# identify the datatype of hid_to_HouseholdID_sample_list\n",
    "type(hid_to_HouseholdID_sample_list), type(hid_to_HouseholdID_sample)"
   ]
  }
 ],
 "metadata": {
  "kernelspec": {
   "display_name": "acbm-7iKwKWLy-py3.10",
   "language": "python",
   "name": "python3"
  },
  "language_info": {
   "codemirror_mode": {
    "name": "ipython",
    "version": 3
   },
   "file_extension": ".py",
   "mimetype": "text/x-python",
   "name": "python",
   "nbconvert_exporter": "python",
   "pygments_lexer": "ipython3",
   "version": "3.10.12"
  }
 },
 "nbformat": 4,
 "nbformat_minor": 2
}
